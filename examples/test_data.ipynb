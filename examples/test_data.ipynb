{
 "cells": [
  {
   "cell_type": "code",
   "execution_count": null,
   "metadata": {},
   "outputs": [],
   "source": [
    "# Copyright 2024 pyclinsci authors. See license.md file for details.\n",
    "\n",
    "# Import objects\n",
    "from pyclinsci import GeoData, config_logging\n",
    "\n",
    "# Reset logging configuration\n",
    "logger = config_logging(console=\"TRACE\")\n",
    "\n",
    "# Add and remove an ISO-3 code\n",
    "GeoData.add_iso3_code(country=\"New Country\", iso3=\"NCO\")\n",
    "GeoData.remove_iso3_code(iso3=\"NCO\")\n",
    "\n",
    "# Create an instance of GenericData\n",
    "tmp_data = GeoData(file_path=\"output/geodata_europe.xlsx\")\n",
    "tmp_data.display_data(\n",
    "    scope                     =\"europe\",\n",
    "    layout_coloraxis_showscale=False,\n",
    "    width                     =600,\n",
    "    height                    =600,\n",
    "    color_continuous_scale    = [\"#00485E\", \"#00485E\"],\n",
    "    marker                    ={\"line\": {\"color\": \"#000709\"}},\n",
    ")"
   ]
  },
  {
   "cell_type": "code",
   "execution_count": null,
   "metadata": {},
   "outputs": [],
   "source": []
  }
 ],
 "metadata": {
  "kernelspec": {
   "display_name": "pyclinsci-T6vh6DeL-py3.12",
   "language": "python",
   "name": "python3"
  },
  "language_info": {
   "codemirror_mode": {
    "name": "ipython",
    "version": 3
   },
   "file_extension": ".py",
   "mimetype": "text/x-python",
   "name": "python",
   "nbconvert_exporter": "python",
   "pygments_lexer": "ipython3",
   "version": "3.12.4"
  }
 },
 "nbformat": 4,
 "nbformat_minor": 2
}
