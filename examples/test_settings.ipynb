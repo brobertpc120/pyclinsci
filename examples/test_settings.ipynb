{
 "cells": [
  {
   "cell_type": "code",
   "execution_count": 1,
   "metadata": {},
   "outputs": [
    {
     "name": "stderr",
     "output_type": "stream",
     "text": [
      "June 18, 2024 > 09:13:05 | INFO\n",
      "Configured logging in console.\n",
      "\n",
      "June 18, 2024 > 09:13:05 | TRACE\n",
      "A trace message.\n",
      "\n",
      "June 18, 2024 > 09:13:05 | DEBUG\n",
      "A debug message.\n",
      "\n",
      "June 18, 2024 > 09:13:05 | INFO\n",
      "An info message.\n",
      "\n",
      "June 18, 2024 > 09:13:05 | SUCCESS\n",
      "A success message.\n",
      "\n",
      "June 18, 2024 > 09:13:05 | WARNING\n",
      "A warning message.\n",
      "\n",
      "June 18, 2024 > 09:13:05 | ERROR\n",
      "An error message.\n",
      "\n",
      "June 18, 2024 > 09:13:05 | CRITICAL\n",
      "A critical message.\n",
      "\n",
      "June 18, 2024 > 09:13:05 | INFO\n",
      "MODULE_PATH: /Users/benbob/Programs/pyclinsci/src/pyclinsci\n",
      "__version__: 0.0.1\n",
      "__version_info__: ('0', '0', '1')\n",
      "\n"
     ]
    }
   ],
   "source": [
    "# Copyright 2024 pyclinsci authors. See license.md file for details.\n",
    "\n",
    "# Import objects\n",
    "from loguru import logger\n",
    "from pyclinsci import (\n",
    "    MODULE_PATH,\n",
    "    __version__,\n",
    "    __version_info__,\n",
    "    config_logging,\n",
    ")\n",
    "\n",
    "# Reset logging configuration\n",
    "config_logging(console=\"TRACE\")\n",
    "\n",
    "# Test logging\n",
    "logger.trace(\"A trace message.\")\n",
    "logger.debug(\"A debug message.\")\n",
    "logger.info(\"An info message.\")\n",
    "logger.success(\"A success message.\")\n",
    "logger.warning(\"A warning message.\")\n",
    "logger.error(\"An error message.\")\n",
    "logger.critical(\"A critical message.\")\n",
    "\n",
    "# Retrieve version info from package and log them\n",
    "log_txt  = f\"MODULE_PATH: {MODULE_PATH}\\n__version__: {__version__}\\n\"\n",
    "log_txt += f\"__version_info__: {__version_info__}\"\n",
    "logger.info(log_txt)\n"
   ]
  }
 ],
 "metadata": {
  "kernelspec": {
   "display_name": "pyclinsci-T6vh6DeL-py3.11",
   "language": "python",
   "name": "python3"
  },
  "language_info": {
   "codemirror_mode": {
    "name": "ipython",
    "version": 3
   },
   "file_extension": ".py",
   "mimetype": "text/x-python",
   "name": "python",
   "nbconvert_exporter": "python",
   "pygments_lexer": "ipython3",
   "version": "3.12.4"
  }
 },
 "nbformat": 4,
 "nbformat_minor": 2
}
