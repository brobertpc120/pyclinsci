{
 "cells": [
  {
   "cell_type": "code",
   "execution_count": null,
   "metadata": {},
   "outputs": [],
   "source": [
    "# Copyright 2024 pyclinsci authors. See license.md file for details.\n",
    "\n",
    "# Import objects\n",
    "from pyclinsci import (\n",
    "    MODULE_PATH,\n",
    "    __version__,\n",
    "    __version_info__,\n",
    "    config_logging,\n",
    ")\n",
    "\n",
    "# Reset logging configuration\n",
    "logger = config_logging(console=\"TRACE\")\n",
    "\n",
    "# Test logging\n",
    "logger.trace(\"A trace message.\")\n",
    "logger.debug(\"A debug message.\")\n",
    "logger.info(\"An info message.\")\n",
    "logger.success(\"A success message.\")\n",
    "logger.warning(\"A warning message.\")\n",
    "logger.error(\"An error message.\")\n",
    "logger.critical(\"A critical message.\")\n",
    "\n",
    "# Retrieve version info from package and log them\n",
    "log_txt  = f\"MODULE_PATH: {MODULE_PATH}\\n__version__: {__version__}\\n\"\n",
    "log_txt += f\"__version_info__: {__version_info__}\"\n",
    "logger.info(log_txt)\n"
   ]
  }
 ],
 "metadata": {
  "kernelspec": {
   "display_name": "pyclinsci-T6vh6DeL-py3.11",
   "language": "python",
   "name": "python3"
  },
  "language_info": {
   "codemirror_mode": {
    "name": "ipython",
    "version": 3
   },
   "file_extension": ".py",
   "mimetype": "text/x-python",
   "name": "python",
   "nbconvert_exporter": "python",
   "pygments_lexer": "ipython3",
   "version": "3.12.4"
  }
 },
 "nbformat": 4,
 "nbformat_minor": 2
}
